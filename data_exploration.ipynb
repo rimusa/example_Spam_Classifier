{
 "cells": [
  {
   "cell_type": "code",
   "execution_count": 1,
   "metadata": {},
   "outputs": [
    {
     "name": "stdout",
     "output_type": "stream",
     "text": [
      "example\n"
     ]
    }
   ],
   "source": [
    "import pandas as pd\n",
    "from dataloader import DataLoader\n",
    "\n",
    "from collections import defaultdict"
   ]
  },
  {
   "cell_type": "code",
   "execution_count": 2,
   "metadata": {},
   "outputs": [
    {
     "data": {
      "text/plain": [
       "'/Users/xmuori/Downloads/untitled folder'"
      ]
     },
     "execution_count": 2,
     "metadata": {},
     "output_type": "execute_result"
    }
   ],
   "source": [
    "%pwd"
   ]
  },
  {
   "cell_type": "code",
   "execution_count": 3,
   "metadata": {},
   "outputs": [],
   "source": [
    "path = \"./Youtube-Spam-Dataset.csv\""
   ]
  },
  {
   "cell_type": "code",
   "execution_count": 4,
   "metadata": {},
   "outputs": [
    {
     "name": "stderr",
     "output_type": "stream",
     "text": [
      "/Users/xmuori/Downloads/untitled folder/dataloader.py:77: MarkupResemblesLocatorWarning: The input looks more like a filename than markup. You may want to open this file and pass the filehandle into Beautiful Soup.\n",
      "  soup = str(BeautifulSoup(sentence, 'html.parser'))\n",
      "/Users/xmuori/Downloads/untitled folder/dataloader.py:77: MarkupResemblesLocatorWarning: The input looks more like a URL than markup. You may want to use an HTTP client like requests to get the document behind the URL, and feed that document to Beautiful Soup.\n",
      "  soup = str(BeautifulSoup(sentence, 'html.parser'))\n"
     ]
    }
   ],
   "source": [
    "\n",
    "dataset = DataLoader(path)\n"
   ]
  },
  {
   "cell_type": "code",
   "execution_count": 7,
   "metadata": {},
   "outputs": [
    {
     "data": {
      "text/plain": [
       "1524                  [love, the, you, lie, the, good, ﻿]\n",
       "1067         [check, out, this, video, on, youtube, :, ﻿]\n",
       "549     [every, time, i, watch, this, mv, i, just, so,...\n",
       "449     [hey, guys, !, can, you, please, subscribe, to...\n",
       "330     [imagine, if, this, guy, put, adsense, on, wit...\n",
       "1505    [omg, !, this, guy, sounds, like, an, american...\n",
       "739                                         [cute, :), ﻿]\n",
       "1022         [check, out, this, video, on, youtube, :, ﻿]\n",
       "447     [great, video, by, a, great, artist, in, katy,...\n",
       "290                   [2, billion, for, this, shit, ?, ﻿]\n",
       "Name: CONTENT, dtype: object"
      ]
     },
     "execution_count": 7,
     "metadata": {},
     "output_type": "execute_result"
    }
   ],
   "source": [
    "\n",
    "text = dataset.train[\"CONTENT\"][:10]\n",
    "\n",
    "text"
   ]
  },
  {
   "cell_type": "code",
   "execution_count": 9,
   "metadata": {},
   "outputs": [
    {
     "name": "stdout",
     "output_type": "stream",
     "text": [
      "[45, 46, 9, 142, 7, 8, -1, -1, 143, -1, 37, 144, 115, 50, -1, 50, 9, -1, -1, 21]\n"
     ]
    }
   ],
   "source": [
    "unk_id = -1\n",
    "for sentence in text:\n",
    "    sentence_ids = []\n",
    "    for token in sentence:\n",
    "        if token in word2idx:\n",
    "            sentence_ids.append(word2idx[token])\n",
    "        else:\n",
    "            sentence_ids.append(unk_id)\n",
    "\n",
    "print(sentence_ids)"
   ]
  },
  {
   "cell_type": "code",
   "execution_count": 6,
   "metadata": {},
   "outputs": [
    {
     "data": {
      "text/plain": [
       "45      [..., subscribe, ...  ..., to, my, ...  ..., c...\n",
       "944     [lol, check, out, my, chanell, and, subscribe,...\n",
       "164                              [2, billion, !, !, !, ﻿]\n",
       "1227    [check, out, the, new, hot, video, by, dante, ...\n",
       "1126     [i, learned, the, shuffle, because, of, them, ﻿]\n",
       "Name: CONTENT, dtype: object"
      ]
     },
     "execution_count": 6,
     "metadata": {},
     "output_type": "execute_result"
    }
   ],
   "source": [
    "text.head()"
   ]
  },
  {
   "cell_type": "code",
   "execution_count": 7,
   "metadata": {},
   "outputs": [],
   "source": [
    "# TODO add example with defaultdict"
   ]
  },
  {
   "cell_type": "code",
   "execution_count": null,
   "metadata": {},
   "outputs": [],
   "source": []
  }
 ],
 "metadata": {
  "kernelspec": {
   "display_name": "Python 3",
   "language": "python",
   "name": "python3"
  },
  "language_info": {
   "codemirror_mode": {
    "name": "ipython",
    "version": 3
   },
   "file_extension": ".py",
   "mimetype": "text/x-python",
   "name": "python",
   "nbconvert_exporter": "python",
   "pygments_lexer": "ipython3",
   "version": "3.12.3"
  }
 },
 "nbformat": 4,
 "nbformat_minor": 2
}
